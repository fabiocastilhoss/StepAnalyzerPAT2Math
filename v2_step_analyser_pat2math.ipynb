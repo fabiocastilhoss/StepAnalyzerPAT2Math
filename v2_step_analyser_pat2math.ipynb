{
  "nbformat": 4,
  "nbformat_minor": 0,
  "metadata": {
    "colab": {
      "provenance": [],
      "machine_shape": "hm",
      "gpuType": "T4",
      "include_colab_link": true
    },
    "kernelspec": {
      "name": "python3",
      "display_name": "Python 3"
    },
    "language_info": {
      "name": "python"
    },
    "accelerator": "GPU"
  },
  "cells": [
    {
      "cell_type": "markdown",
      "metadata": {
        "id": "view-in-github",
        "colab_type": "text"
      },
      "source": [
        "<a href=\"https://colab.research.google.com/github/fabiocastilhoss/StepAnalyzerPAT2Math/blob/main/v2_step_analyser_pat2math.ipynb\" target=\"_parent\"><img src=\"https://colab.research.google.com/assets/colab-badge.svg\" alt=\"Open In Colab\"/></a>"
      ]
    },
    {
      "cell_type": "markdown",
      "metadata": {
        "id": "ivldMFWiitY7"
      },
      "source": [
        "# Step Analyser PAT2Math - Versão 2"
      ]
    },
    {
      "cell_type": "markdown",
      "source": [
        "*   Versão 2\n",
        "*   Redes Neurais\n",
        "*   ~ 80 mil instâncias"
      ],
      "metadata": {
        "id": "jq-ZySLry22I"
      }
    },
    {
      "cell_type": "markdown",
      "metadata": {
        "id": "uDj-ylxdkHAI"
      },
      "source": [
        "Instalação de pacotes e importações"
      ]
    },
    {
      "cell_type": "code",
      "execution_count": null,
      "metadata": {
        "id": "X0ePfIAuM6ZG"
      },
      "outputs": [],
      "source": [
        "pip install accelerate -U"
      ]
    },
    {
      "cell_type": "code",
      "execution_count": null,
      "metadata": {
        "id": "wjhFIbLPR8W8"
      },
      "outputs": [],
      "source": [
        "import tensorflow as tf #Manipulação de expressões matemáticas sobre tensores numéricos\n",
        "from tensorflow import keras #Biblioteca para Deep Learning\n",
        "from keras import layers #Estruturas de dados para Deep Learning\n",
        "from keras.preprocessing.sequence import pad_sequences #Pacote para preenchimento de sequências\n",
        "from keras import activations, optimizers, losses #Módulos para ativação, otimizadores e funções de loss\n",
        "from keras.callbacks import ModelCheckpoint #pacote para salvar o melhor modelo\n",
        "from keras.preprocessing.text import Tokenizer #Tokenizador\n",
        "from keras.models import Sequential #Classe para criação de redes neurais\n",
        "from keras.layers import Embedding, GRU, Dense, Dropout #Pacote para criação de redes neurais\n",
        "import matplotlib.pyplot as plt #Biblioteca para visualização de dados\n",
        "import seaborn as sns #Biblioteca para visualização de dados\n",
        "import numpy as np #Operações em arrays multidimensionais\n",
        "import pandas as pd #Biblioteca para análise e manipulação de dados\n",
        "import random #Geração de números aleatórios\n",
        "import string #Operações em Strings\n",
        "import re #Operações em expressões regulares\n",
        "from sklearn.model_selection import train_test_split #Divisão de conjuntos\n",
        "from sklearn.metrics import confusion_matrix #Matriz de confusão\n",
        "from sklearn.utils import shuffle #Embaralhamento\n",
        "from sklearn.metrics import accuracy_score #Métricas\n",
        "from google.colab import drive #Conexão do Google Colab ao Google Drive"
      ]
    },
    {
      "cell_type": "markdown",
      "source": [
        "Leitura e filtragem do log das interações dos estudantes no PAT2Math."
      ],
      "metadata": {
        "id": "6H2EFGeGiWL5"
      }
    },
    {
      "cell_type": "code",
      "execution_count": null,
      "metadata": {
        "id": "gKZkVxJvFDXt"
      },
      "outputs": [],
      "source": [
        "#Conexão com o Google Drive\n",
        "drive.mount('/content/drive')"
      ]
    },
    {
      "cell_type": "code",
      "execution_count": null,
      "metadata": {
        "id": "VGQmzhgGTlOj"
      },
      "outputs": [],
      "source": [
        "#Leitura do log de interações do PAT2Math, armazenado no Google Drive\n",
        "log = pd.read_csv(\"/content/drive/MyDrive/colab/fabio-mestrado/log_with_current_step_pat2math.csv\", sep=\",\", encoding=\"latin-1\")\n",
        "log.head()"
      ]
    },
    {
      "cell_type": "code",
      "execution_count": null,
      "metadata": {
        "id": "g06M9oCKflex"
      },
      "outputs": [],
      "source": [
        "#Filtragem do log para quatro colunas\n",
        "log = log[[\"initial_equation\", \"last_correct_step\", \"currentStep\", \"step_is_correct\"]]\n",
        "log.head()"
      ]
    },
    {
      "cell_type": "code",
      "execution_count": null,
      "metadata": {
        "id": "erN77Eha9up6"
      },
      "outputs": [],
      "source": [
        "# Verifica a quatidade de dados faltantes em cada coluna\n",
        "dados_faltantes = log.isna().sum()\n",
        "print(dados_faltantes)"
      ]
    },
    {
      "cell_type": "markdown",
      "metadata": {
        "id": "Y-DN-2on_G3x"
      },
      "source": [
        "# Junção de colunas:\n",
        "Para ampliação do conjunto de dados, quando a coluna last_correct_step é diferente de initial_equation, ela é usada como equação inicial, ou seja, uma nova instância é criada, contendo os dados de last_correct_step na coluna initial_equation, mantendo os dados de currentStep e step_is_correct, nas suas colunas equivalentes.\n",
        "\n",
        "No final do procedimento, a coluna last_correct_step é excluída."
      ]
    },
    {
      "cell_type": "code",
      "execution_count": null,
      "metadata": {
        "id": "EQ5E3Xwb9zu0"
      },
      "outputs": [],
      "source": [
        "#Amplia o número de instâncias, inserindo last_correct_step como initial_equation, quando contiverem valores diferentes.\n",
        "\n",
        "# Criar uma lista para armazenar os novos dados\n",
        "new_rows = []\n",
        "\n",
        "# Iterar sobre cada linha do DataFrame\n",
        "for index, row in log.iterrows():\n",
        "    if row['initial_equation'] != row['last_correct_step']:\n",
        "        new_row = row.copy()  # Copiar a linha existente\n",
        "        new_row['initial_equation'] = row['last_correct_step']  # Atualizar 'initial_equation'\n",
        "        new_rows.append(new_row)  # Adicionar a nova linha à lista\n",
        "\n",
        "# Adicionar as novas linhas ao DataFrame\n",
        "log = log.append(new_rows, ignore_index=True)"
      ]
    },
    {
      "cell_type": "code",
      "execution_count": null,
      "metadata": {
        "id": "-bQrPlVa9-NE"
      },
      "outputs": [],
      "source": [
        "#Filtra o log resultante para apenas três colunas\n",
        "log = log[[\"initial_equation\", \"currentStep\", \"step_is_correct\"]]\n",
        "log"
      ]
    },
    {
      "cell_type": "markdown",
      "source": [
        "A junção de colunas resulta em 251.777 instâncias."
      ],
      "metadata": {
        "id": "69Yt7i4Ki4CJ"
      }
    },
    {
      "cell_type": "markdown",
      "source": [
        "# Tratamento de Dados:\n",
        "\n",
        "*   Retirada de espaços em branco\n",
        "*   Retiradas de duplicatas\n",
        "*   Retirada de dados faltantes\n",
        "*   Verificação de caracteres inválidos\n",
        "*   Padronização da equação\n",
        "*   Checagem e correção dos rótulos"
      ],
      "metadata": {
        "id": "z3X9zUF9i-HP"
      }
    },
    {
      "cell_type": "markdown",
      "source": [
        "## Retira espaços em branco\n",
        "\n",
        "Retira espaços em branco nas colinas initial_equation e currentStep."
      ],
      "metadata": {
        "id": "JZWscEd4jB0Z"
      }
    },
    {
      "cell_type": "code",
      "source": [
        "#Exclui espaços em branco\n",
        "log[\"initial_equation\"] = log[\"initial_equation\"].replace(\" \", \"\")\n",
        "log[\"currentStep\"] = log[\"currentStep\"].replace(\" \", \"\")"
      ],
      "metadata": {
        "id": "RJpsw0G1jFBg"
      },
      "execution_count": null,
      "outputs": []
    },
    {
      "cell_type": "markdown",
      "metadata": {
        "id": "mEfMHfw2AK4a"
      },
      "source": [
        "## Retira duplicatas\n",
        "\n",
        "Exclui instâncias que contém dados duplicados, usando como chave as duas colunas: initial_equation e currentStep. Só exclui quando ambas contiverem valores iguais, reduzindo o número de instâncias para 34.769."
      ]
    },
    {
      "cell_type": "code",
      "execution_count": null,
      "metadata": {
        "id": "Aek1yBd8AM2S"
      },
      "outputs": [],
      "source": [
        "#Exclui instâncias duplicadas\n",
        "log = log.drop_duplicates(subset=['initial_equation', 'currentStep'])\n",
        "log.head(), log.shape"
      ]
    },
    {
      "cell_type": "markdown",
      "metadata": {
        "id": "l4AvvU0uAXos"
      },
      "source": [
        "## Retira linhas com valores faltantes\n",
        "\n",
        "Exclui as instâncias que contém valores faltantes, reduzindo o número de instâncias para 30.279."
      ]
    },
    {
      "cell_type": "code",
      "execution_count": null,
      "metadata": {
        "id": "FTDhjc9IAW8c"
      },
      "outputs": [],
      "source": [
        "#Exclui as instâncias que contém valores faltantes\n",
        "log = log.dropna()\n",
        "log.head(), log.shape"
      ]
    },
    {
      "cell_type": "markdown",
      "source": [
        "Verifica o número de rótulos corretos e incorretos"
      ],
      "metadata": {
        "id": "upmFDTXejW2A"
      }
    },
    {
      "cell_type": "code",
      "source": [
        "#Conta número de instâncias com label incorreto e correto\n",
        "counts = log[\"step_is_correct\"].value_counts()\n",
        "counts"
      ],
      "metadata": {
        "id": "vKzVqkvTjZtY"
      },
      "execution_count": null,
      "outputs": []
    },
    {
      "cell_type": "code",
      "source": [
        "# Crie um gráfico de barras\n",
        "plt.bar(counts.index, counts.values, color=['red', 'blue'], edgecolor='k')\n",
        "\n",
        "# Adicione rótulos e título\n",
        "plt.xlabel(\"Status\")\n",
        "plt.ylabel(\"Instâncias\")\n",
        "plt.title(\"Contagem de Instâncias com Rótulo Incorreto e Correto\")\n",
        "\n",
        "# Personalize os rótulos no eixo x (opcional)\n",
        "plt.xticks(counts.index, ['Incorreto', 'Correto'])\n",
        "\n",
        "# Mostre o gráfico\n",
        "plt.show()"
      ],
      "metadata": {
        "id": "Slgffo9tjc8R"
      },
      "execution_count": null,
      "outputs": []
    },
    {
      "cell_type": "markdown",
      "metadata": {
        "id": "lGNUtNt5SMfE"
      },
      "source": [
        "# Pré-Processamento\n",
        "\n",
        "*    Balanceamento de Dados - Data Augmentation"
      ]
    },
    {
      "cell_type": "markdown",
      "source": [
        "## Balanceamento de Dados\n",
        "\n",
        "O balanceamento de dados é realizado através da função data augmentation.\n",
        "\n",
        "*    A função de data augmentation (augment_equation) recebe uma equação da coluna initial equation e o indicador correct (para gerar uma equação correta ou incorreta). Essa função, quando correct é informado como 1, insere operações aleatórias de adição, subtração, multiplicação e divisão dos dois lados da equação. No final, também aleatoriamente, pode inverter os lados da equação. Se correct é 0, a inserção é realizada em apenas um lado da equação, tornando-a incorreta."
      ],
      "metadata": {
        "id": "C7HyQgpvjqg5"
      }
    },
    {
      "cell_type": "code",
      "execution_count": null,
      "metadata": {
        "id": "g3Hh0uqvSYFu"
      },
      "outputs": [],
      "source": [
        "# Função de data augmentation para alterar initial equation, incluindo instâncias corretas ou incorretas\n",
        "def augment_equation(equation, correct):\n",
        "\n",
        "    # Separa os lados da equação e retira os espaços em branco\n",
        "    left, right = equation.split('=')\n",
        "    left = left.strip()\n",
        "    right = right.strip()\n",
        "\n",
        "    # Seleciona aleatoriamente uma ou duas operações\n",
        "    choice = random.choice([\"add\", \"multiply\", \"div\", \"add&multiply\", \"add&div\"])\n",
        "\n",
        "    # Gera constantes aleatórias entre -100 e 100 (inclusive)\n",
        "    constant_to_add = random.randint(-100, 100)\n",
        "    constant_to_multiply = random.choice([1, 2, 3, 4, 5, 6, 7, 8, 9, 10, 0, -1, -2, -3, -4, -5, -6, -7, -8, -9, -10])\n",
        "    constant_to_div = random.choice([1, 2, 3, 4, 5, 6, 7, 8, 9, 10, -1, -2, -3, -4, -5, -6, -7, -8, -9, -10])\n",
        "\n",
        "    # Se correct == 1, adiciona as operações a ambos os lados\n",
        "    if correct:\n",
        "      # Adição\n",
        "      if choice in [\"add\", \"add&multiply\", \"add&div\"]:\n",
        "        if constant_to_add >= 0:\n",
        "          left = f\"({left}) + {constant_to_add}\"\n",
        "          right = f\"({right}) + {constant_to_add}\"\n",
        "        else:\n",
        "          left = f\"({left}) + ({constant_to_add})\"\n",
        "          right = f\"({right}) + ({constant_to_add})\"\n",
        "\n",
        "      # Multiplicação\n",
        "      if choice in [\"multiply\", \"add&multiply\"]:\n",
        "        if constant_to_multiply >= 0:\n",
        "          left = f\"({left}) * {constant_to_multiply}\"\n",
        "          right = f\"({right}) * {constant_to_multiply}\"\n",
        "        else:\n",
        "          left = f\"({left}) * ({constant_to_multiply})\"\n",
        "          right = f\"({right}) * ({constant_to_multiply})\"\n",
        "\n",
        "      # Divisão\n",
        "      if choice in [\"div\", \"add&div\"]:\n",
        "        if constant_to_div >= 0:\n",
        "          left = f\"({left}) / {constant_to_div}\"\n",
        "          right = f\"({right}) / {constant_to_div}\"\n",
        "        else:\n",
        "          left = f\"({left}) / ({constant_to_div})\"\n",
        "          right = f\"({right}) / ({constant_to_div})\"\n",
        "\n",
        "    # Se correct == 0, adiciona as operações apenas no lado esquerdo\n",
        "    else:\n",
        "\n",
        "      # Adição\n",
        "      if choice in [\"add\", \"add&multiply\", \"add&div\"]:\n",
        "        if constant_to_add >= 0:\n",
        "          left = f\"({left}) + {constant_to_add}\"\n",
        "        else:\n",
        "          left = f\"({left}) + ({constant_to_add})\"\n",
        "\n",
        "      # Multiplicação\n",
        "      if choice in [\"multiply\", \"add&multiply\"]:\n",
        "        if constant_to_multiply >= 0:\n",
        "          left = f\"({left}) * {constant_to_multiply}\"\n",
        "        else:\n",
        "          left = f\"({left}) * ({constant_to_multiply})\"\n",
        "\n",
        "      # Divisão\n",
        "      if choice in [\"div\", \"add&div\"]:\n",
        "        if constant_to_div >= 0:\n",
        "          left = f\"({left}) / {constant_to_div}\"\n",
        "        else:\n",
        "          left = f\"({left}) / ({constant_to_div})\"\n",
        "\n",
        "    # Troca os lados da equação aleatoriamente\n",
        "    if random.choice([True, False]):\n",
        "        left, right = right, left\n",
        "\n",
        "    # Retira espaços em branco e retorna equação initial equation modificada\n",
        "    left = left.replace(\" \", \"\")\n",
        "    right = right.replace(\" \", \"\")\n",
        "    return f\"{left}={right}\"\n",
        "\n",
        "# Exemplo da equação \"2x + 3 = 5\" correta e incorreta\n",
        "equation = \"2x + 3 = 5\"\n",
        "augmented_equation1 = augment_equation(equation, 1)\n",
        "augmented_equation2 = augment_equation(equation, 0)\n",
        "print(\"Equação Correta: \", augmented_equation1)\n",
        "print(\"Equação Incorreta: \", augmented_equation2)"
      ]
    },
    {
      "cell_type": "code",
      "execution_count": null,
      "metadata": {
        "id": "csYojNorSfpV"
      },
      "outputs": [],
      "source": [
        "# Contar o número de ocorrências de step_is_correct igual a 1 e 0\n",
        "count_correct = log['step_is_correct'].value_counts()[1.0]\n",
        "count_incorrect = log['step_is_correct'].value_counts()[0.0]\n",
        "\n",
        "print(\"Número de linhas com passos corretos:\", count_correct)\n",
        "print(\"Número de linhas com passos incorretos:\", count_incorrect)"
      ]
    },
    {
      "cell_type": "code",
      "execution_count": null,
      "metadata": {
        "id": "ljFtFbKZg-xZ"
      },
      "outputs": [],
      "source": [
        "# Variável log_temp recebe rótulos corretos (7.851)\n",
        "log_temp = log[log[\"step_is_correct\"] == 1.0]\n",
        "\n",
        "# Variável log_temp_subset recebe um subconjunto dos rótulos corretos (1.125)\n",
        "log_temp_subset = log_temp.head(1125)"
      ]
    },
    {
      "cell_type": "markdown",
      "source": [
        "O código abaixo aplica 4 vezes a função augment_equation com correct == 1, nos rótulos corretos, aumentando de 7.851 instâncias corretas para 39.255.\n",
        "\n",
        "Após, ele aplica 2 vezes a função augment_equation com correct == 0, nos rótulos corretos e mais uma no subjconjunto de 1.125, aumentando os rótulos incorretos de 22.428 para 39.255."
      ],
      "metadata": {
        "id": "jotTke8Pk5JM"
      }
    },
    {
      "cell_type": "code",
      "execution_count": null,
      "metadata": {
        "id": "HHNFiDuzhDrt"
      },
      "outputs": [],
      "source": [
        "# Lista de rótulos para as funções\n",
        "labels = [1.0, 1.0, 1.0, 1.0, 0.0, 0.0]\n",
        "\n",
        "# Lista para armazenar os DataFrames gerados\n",
        "new_dataframes = []\n",
        "\n",
        "# Aplica função augment_equation 5 vezes para geração de equações corretas e 3 para geração de equações incorretas\n",
        "# Loop para aplicar as funções e criar os DataFrames\n",
        "for i, lab in enumerate(labels):\n",
        "    new_rows = log_temp.apply(lambda row: pd.Series({'initial_equation': augment_equation(row['initial_equation'], int(labels[i])),\n",
        "                                                     'currentStep': row['currentStep'],\n",
        "                                                     'step_is_correct': labels[i]}), axis=1)\n",
        "    # Anexar as novas linhas ao DataFrame original\n",
        "    log = log.append(new_rows, ignore_index=True)\n",
        "\n",
        "# Aplica função augment_equation para geração de equações incorretas\n",
        "new_rows = log_temp_subset.apply(lambda row: pd.Series({'initial_equation': augment_equation(row['initial_equation'], 0),\n",
        "                                                     'currentStep': row['currentStep'],\n",
        "                                                     'step_is_correct': 0.0}), axis=1)\n",
        "# Anexar as novas linhas ao DataFrame original\n",
        "log = log.append(new_rows, ignore_index=True)\n",
        "\n",
        "# Imprime o log atualizado\n",
        "log"
      ]
    },
    {
      "cell_type": "code",
      "execution_count": null,
      "metadata": {
        "id": "sVoiRhulhJWL"
      },
      "outputs": [],
      "source": [
        "# Contar o número de ocorrências de step_is_correct igual a 1 e 0\n",
        "count_correct = log['step_is_correct'].value_counts()[1.0]\n",
        "count_incorrect = log['step_is_correct'].value_counts()[0.0]\n",
        "\n",
        "print(\"Número de linhas com passos corretos:\", count_correct)\n",
        "print(\"Número de linhas com passos incorretos:\", count_incorrect)"
      ]
    },
    {
      "cell_type": "code",
      "source": [
        "# Variável counts recebe os valores de rótulos corretos e incorretos\n",
        "counts = log[\"step_is_correct\"].value_counts()\n",
        "\n",
        "# Crie um gráfico de barras\n",
        "plt.bar(counts.index, counts.values, color=['red', 'blue'], edgecolor='k')\n",
        "\n",
        "# Adicione rótulos e título\n",
        "plt.xlabel(\"Status\")\n",
        "plt.ylabel(\"Instâncias\")\n",
        "plt.title(\"Contagem de Instâncias com Rótulo Incorreto e Correto\")\n",
        "\n",
        "# Personalize os rótulos no eixo x (opcional)\n",
        "plt.xticks(counts.index, ['Incorreto', 'Correto'])\n",
        "\n",
        "# Mostre o gráfico\n",
        "plt.show()"
      ],
      "metadata": {
        "id": "ZV74ztVklUwI"
      },
      "execution_count": null,
      "outputs": []
    },
    {
      "cell_type": "code",
      "execution_count": null,
      "metadata": {
        "id": "5KzhaIQwSshj"
      },
      "outputs": [],
      "source": [
        "# Exclui os valores duplicados novamente, desde que constem como iguais em ambas as colunas: initial equation e currentStep\n",
        "log = log.drop_duplicates(subset=['initial_equation', 'currentStep'])\n",
        "log.head(), log.shape"
      ]
    },
    {
      "cell_type": "code",
      "execution_count": null,
      "metadata": {
        "id": "KMIG-S7ASv6f"
      },
      "outputs": [],
      "source": [
        "# Contar o número de ocorrências de step_is_correct igual a 1 e 0\n",
        "counts = counts = log[\"step_is_correct\"].value_counts()\n",
        "counts"
      ]
    },
    {
      "cell_type": "code",
      "source": [
        "# Crie um gráfico de barras\n",
        "plt.bar(counts.index, counts.values, color=['red', 'blue'], edgecolor='k')\n",
        "\n",
        "# Adicione rótulos e título\n",
        "plt.xlabel(\"Status\")\n",
        "plt.ylabel(\"Instâncias\")\n",
        "plt.title(\"Contagem de Instâncias com Rótulo Incorreto e Correto\")\n",
        "\n",
        "# Personalize os rótulos no eixo x (opcional)\n",
        "plt.xticks(counts.index, ['Incorreto', 'Correto'])\n",
        "\n",
        "# Mostre o gráfico\n",
        "plt.show()"
      ],
      "metadata": {
        "id": "WwGuh_WFlg7i"
      },
      "execution_count": null,
      "outputs": []
    },
    {
      "cell_type": "code",
      "execution_count": null,
      "metadata": {
        "id": "HZp9ntFESy4D"
      },
      "outputs": [],
      "source": [
        "#Imprime log atualizado\n",
        "log"
      ]
    },
    {
      "cell_type": "markdown",
      "metadata": {
        "id": "g7ERiq18RBqd"
      },
      "source": [
        "## Entrada única\n",
        "\n",
        "As equações initial equation e currentStep são mescladas em uma úninca entrada chamada de input_sequence, unidas pelo separador [SEP], enquanto step_is_correct continua como rótulo, desta vez com valor inteiro."
      ]
    },
    {
      "cell_type": "code",
      "execution_count": null,
      "metadata": {
        "id": "xyRkyO3CqdD4"
      },
      "outputs": [],
      "source": [
        "# Inicialize o DataFrame 'passos'\n",
        "passos = pd.DataFrame()\n",
        "\n",
        "# Em seguida, criamos a nova coluna combinando as duas colunas de entrada.\n",
        "passos['input_sequence'] = log['initial_equation'] + ' [SEP] ' + log['currentStep']\n",
        "passos['step_is_correct'] = log['step_is_correct'].astype(int)"
      ]
    },
    {
      "cell_type": "code",
      "execution_count": null,
      "metadata": {
        "id": "L0rxrpuUt-4I"
      },
      "outputs": [],
      "source": [
        "passos.head()"
      ]
    },
    {
      "cell_type": "code",
      "source": [
        "passos"
      ],
      "metadata": {
        "id": "GgleG1TMJxZW"
      },
      "execution_count": null,
      "outputs": []
    },
    {
      "cell_type": "markdown",
      "source": [
        "Embaralhar o conjunto de dados."
      ],
      "metadata": {
        "id": "d1DtUcGklv-b"
      }
    },
    {
      "cell_type": "code",
      "execution_count": null,
      "metadata": {
        "id": "_N4ccSNL0v51"
      },
      "outputs": [],
      "source": [
        "# Cria variável para embaralhar o conjunto de dados\n",
        "passos_embaralhados = shuffle(passos)"
      ]
    },
    {
      "cell_type": "code",
      "execution_count": null,
      "metadata": {
        "id": "MqoGdmzfvvxq"
      },
      "outputs": [],
      "source": [
        "# Embaralha os dados de entrada e os rótulos\n",
        "X_series = passos_embaralhados['input_sequence']\n",
        "y_series = passos_embaralhados['step_is_correct']"
      ]
    },
    {
      "cell_type": "markdown",
      "source": [
        "## Divisão de Dados\n",
        "\n",
        "Aqui os dados são divididos em três conjuntos: conjunto de treinamento, com 70% das instâncias, conjunto de validação, com 20% das instâncias e conjunto de testes, com 10% das instâncias."
      ],
      "metadata": {
        "id": "6fKYmZLBl7qS"
      }
    },
    {
      "cell_type": "code",
      "source": [
        "# Usar o sklearn para dividir os dados\n",
        "X_train, X_test, y_train, y_test = train_test_split(X_series, y_series, test_size=0.1, random_state=42)\n",
        "X_train, X_val, y_train, y_val = train_test_split(X_train, y_train, test_size=0.2, random_state=42)"
      ],
      "metadata": {
        "id": "EPD3cb7emAgC"
      },
      "execution_count": null,
      "outputs": []
    },
    {
      "cell_type": "markdown",
      "source": [
        "## Tokenização, Encoding e Padding"
      ],
      "metadata": {
        "id": "1Hygg-cumF-x"
      }
    },
    {
      "cell_type": "code",
      "source": [
        "# Tokenização\n",
        "max_words = 5000  # Número máximo de palavras a serem mantidas no vocabulário\n",
        "tokenizer = Tokenizer(num_words=max_words, oov_token='<OOV>')\n",
        "tokenizer.fit_on_texts(X_train)\n",
        "\n",
        "X_train_seq = tokenizer.texts_to_sequences(X_train)\n",
        "X_val_seq = tokenizer.texts_to_sequences(X_val)\n",
        "X_test_seq = tokenizer.texts_to_sequences(X_test)"
      ],
      "metadata": {
        "id": "gaAvwIUDPcS-"
      },
      "execution_count": null,
      "outputs": []
    },
    {
      "cell_type": "code",
      "source": [
        "# Padding\n",
        "max_sequence_length = 20\n",
        "X_train_padded = pad_sequences(X_train_seq, maxlen=max_sequence_length, padding='post', truncating='post')\n",
        "X_val_padded = pad_sequences(X_val_seq, maxlen=max_sequence_length, padding='post', truncating='post')\n",
        "X_test_padded = pad_sequences(X_test_seq, maxlen=max_sequence_length, padding='post', truncating='post')"
      ],
      "metadata": {
        "id": "J8vwtpToPiou"
      },
      "execution_count": null,
      "outputs": []
    },
    {
      "cell_type": "markdown",
      "metadata": {
        "id": "QcfWXL0vxV--"
      },
      "source": [
        "# Criação da Rede, Treinamento e Validação\n",
        "\n",
        "Aqui é criada uma rede GRU e o modelo é treinado e validado. O melhor modelo é armazenado na variável 'melhor_modelo'.\n",
        "\n",
        "O treinamento é realizado com 25 épocas, otimizador Adam e função de loss Binary Crossentropy.\n",
        "\n",
        "\n"
      ]
    },
    {
      "cell_type": "code",
      "source": [
        "# Construir o modelo GRU\n",
        "model = Sequential()\n",
        "model.add(Embedding(input_dim=max_words, output_dim=128, input_length=max_sequence_length))\n",
        "model.add(GRU(64, return_sequences=True))\n",
        "model.add(GRU(64))\n",
        "model.add(Dense(1, activation='sigmoid'))\n",
        "\n",
        "model.compile(optimizer='adam', loss='binary_crossentropy', metrics=['accuracy'])\n",
        "\n",
        "# Treinamento do modelo\n",
        "checkpoint = ModelCheckpoint('melhor_modelo', monitor='val_loss', save_best_only=True, save_format='tf')\n",
        "history = model.fit(X_train_padded, y_train, epochs=25, batch_size=32, validation_data=(X_val_padded, y_val), callbacks=[checkpoint])\n",
        "\n",
        "# Avaliar o modelo no conjunto de teste\n",
        "test_loss, test_accuracy = model.evaluate(X_test_padded, y_test)\n",
        "print(\"Test Loss:\", test_loss)\n",
        "print(\"Test Accuracy:\", test_accuracy)"
      ],
      "metadata": {
        "id": "rBbU6gLMPm7g"
      },
      "execution_count": null,
      "outputs": []
    },
    {
      "cell_type": "markdown",
      "metadata": {
        "id": "KbhTZfW2yz12"
      },
      "source": [
        "# Teste\n",
        "Usando o conjunto de dados de teste para avaliar o modelo"
      ]
    },
    {
      "cell_type": "code",
      "execution_count": null,
      "metadata": {
        "id": "aqwLDuRhzB4D"
      },
      "outputs": [],
      "source": [
        "# Avaliar o modelo no conjunto de teste com return_dict=True\n",
        "benchmarks = model.evaluate(X_test_padded, y_test, return_dict=True)\n",
        "print(benchmarks)"
      ]
    },
    {
      "cell_type": "code",
      "source": [
        "N_EPOCHS = 25\n",
        "# Plotar a curva de aprendizado da perda\n",
        "plt.figure(figsize=(10, 5))\n",
        "plt.plot(range(1, N_EPOCHS+1), history.history['loss'], 'r', label='Training Loss')\n",
        "plt.plot(range(1, N_EPOCHS+1), history.history['val_loss'], 'b', label='Validation Loss')\n",
        "plt.title('Curva de Aprendizado - Perda')\n",
        "plt.xlabel('Epochs')\n",
        "plt.ylabel('Loss')\n",
        "plt.legend()\n",
        "plt.grid()\n",
        "plt.show()\n",
        "\n",
        "# Plotar a curva de aprendizado da acurácia\n",
        "plt.figure(figsize=(10, 5))\n",
        "plt.plot(range(1, N_EPOCHS+1), history.history['accuracy'], 'r', label='Training Accuracy')\n",
        "plt.plot(range(1, N_EPOCHS+1), history.history['val_accuracy'], 'b', label='Validation Accuracy')\n",
        "plt.title('Curva de Aprendizado - Acurácia')\n",
        "plt.xlabel('Epochs')\n",
        "plt.ylabel('Accuracy')\n",
        "plt.legend()\n",
        "plt.grid()\n",
        "plt.show()"
      ],
      "metadata": {
        "id": "Nc2OS_oaIYvq"
      },
      "execution_count": null,
      "outputs": []
    },
    {
      "cell_type": "code",
      "source": [
        "# Avaliar o modelo no conjunto de testes\n",
        "y_pred = model.predict(X_test_padded)\n",
        "y_pred_binary = (y_pred > 0.5).astype(int)\n",
        "\n",
        "# Calcular a acurácia\n",
        "accuracy = accuracy_score(y_test, y_pred_binary)\n",
        "print(\"Acurácia:\", accuracy)\n",
        "\n",
        "input_texts1 = []\n",
        "input_texts2 = []\n",
        "\n",
        "for text in X_test:\n",
        "    try:\n",
        "        # Divida o texto pelo [SEP] no meio\n",
        "        it1, it2 = text.split(\"[SEP]\", 1)\n",
        "        it2 = it2.replace(\"[SEP]\", \"\")\n",
        "        it1 = it1.rstrip()\n",
        "        it2 = it2.rstrip()\n",
        "        input_texts1.append(it1)\n",
        "        input_texts2.append(it2)\n",
        "    except ValueError:\n",
        "        # Se houver um erro ao dividir, imprima o texto problemático e continue\n",
        "        print(f\"Erro ao dividir o texto: {text}\")\n",
        "\n",
        "# Crie uma lista de resultados com base na comparação entre Previsão e Rótulo\n",
        "resultados = [\"Certo\" if p == r else \"Errado\" for p, r in zip(y_pred_binary.squeeze(), y_test)]\n",
        "\n",
        "# Crie um DataFrame com as previsões, probabilidades e entradas originais\n",
        "results_df = pd.DataFrame({\n",
        "    \"Equação Inicial\": input_texts1,  # Use os textos decodificados\n",
        "    \"Passo Atual\": input_texts2,  # Use os textos decodificados\n",
        "    \"Probabilidade (%)\": y_pred.squeeze(),\n",
        "    \"Previsão\": y_pred_binary.squeeze(),\n",
        "    \"Rótulo\": y_test ,  # Adicione a lista de rótulos\n",
        "    \"Resultado\": resultados  # Adicione a lista de resultados\n",
        "})"
      ],
      "metadata": {
        "id": "ddbsXVWOXMSv"
      },
      "execution_count": null,
      "outputs": []
    },
    {
      "cell_type": "code",
      "source": [
        "results_df"
      ],
      "metadata": {
        "id": "suUNJQ7va6-t"
      },
      "execution_count": null,
      "outputs": []
    },
    {
      "cell_type": "code",
      "source": [
        "results_df[\"Resultado\"].value_counts()"
      ],
      "metadata": {
        "id": "gMyudtMYa_ws"
      },
      "execution_count": null,
      "outputs": []
    },
    {
      "cell_type": "code",
      "source": [
        "# Contagem dos valores \"Certo\" e \"Errado\" na coluna \"Resultado\"\n",
        "contagem_resultados = results_df[\"Resultado\"].value_counts()\n",
        "\n",
        "# Calcula o percentual de acerto\n",
        "percentual_acerto = (contagem_resultados[\"Certo\"] / len(results_df)) * 100\n",
        "\n",
        "# Imprime o percentual de acerto\n",
        "print(f\"Percentual de acerto: {percentual_acerto:.2f}%\")"
      ],
      "metadata": {
        "id": "MxzFpOz7bZeF"
      },
      "execution_count": null,
      "outputs": []
    },
    {
      "cell_type": "code",
      "source": [
        "# Calcular a matriz de confusão\n",
        "cm = confusion_matrix(y_test, y_pred_binary.squeeze())\n",
        "\n",
        "# Definir rótulos das classes (substitua pelos seus rótulos)\n",
        "class_names = ['Classe 0', 'Classe 1']\n",
        "\n",
        "# Criar um heatmap da matriz de confusão\n",
        "plt.figure(figsize=(8, 6))\n",
        "sns.set(font_scale=1.2)\n",
        "sns.heatmap(cm, annot=True, fmt='d', cmap='Blues', cbar=False,\n",
        "            xticklabels=class_names, yticklabels=class_names)\n",
        "plt.xlabel('Rótulos Previstos')\n",
        "plt.ylabel('Rótulos Reais')\n",
        "plt.title('Matriz de Confusão')\n",
        "plt.show()"
      ],
      "metadata": {
        "id": "sfkxE33fpLOd"
      },
      "execution_count": null,
      "outputs": []
    }
  ]
}