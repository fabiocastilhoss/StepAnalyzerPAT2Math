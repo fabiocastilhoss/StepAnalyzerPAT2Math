{
  "nbformat": 4,
  "nbformat_minor": 0,
  "metadata": {
    "colab": {
      "provenance": [],
      "machine_shape": "hm",
      "gpuType": "T4",
      "include_colab_link": true
    },
    "kernelspec": {
      "name": "python3",
      "display_name": "Python 3"
    },
    "language_info": {
      "name": "python"
    },
    "accelerator": "GPU"
  },
  "cells": [
    {
      "cell_type": "markdown",
      "metadata": {
        "id": "view-in-github",
        "colab_type": "text"
      },
      "source": [
        "<a href=\"https://colab.research.google.com/github/fabiocastilhoss/StepAnalyzerPAT2Math/blob/main/v3_step_analyzer_pat2math.ipynb\" target=\"_parent\"><img src=\"https://colab.research.google.com/assets/colab-badge.svg\" alt=\"Open In Colab\"/></a>"
      ]
    },
    {
      "cell_type": "markdown",
      "metadata": {
        "id": "ivldMFWiitY7"
      },
      "source": [
        "# Step Analyser PAT2Math - Versão 3"
      ]
    },
    {
      "cell_type": "markdown",
      "source": [
        "*   Versão 3\n",
        "*   Redes Neurais\n",
        "*   ~ 115 mil instâncias\n",
        "*   Com correção de rótulos"
      ],
      "metadata": {
        "id": "jq-ZySLry22I"
      }
    },
    {
      "cell_type": "markdown",
      "metadata": {
        "id": "uDj-ylxdkHAI"
      },
      "source": [
        "Instalação de pacotes e importações"
      ]
    },
    {
      "cell_type": "code",
      "execution_count": null,
      "metadata": {
        "id": "X0ePfIAuM6ZG"
      },
      "outputs": [],
      "source": [
        "pip install accelerate -U"
      ]
    },
    {
      "cell_type": "code",
      "execution_count": null,
      "metadata": {
        "id": "wjhFIbLPR8W8"
      },
      "outputs": [],
      "source": [
        "import tensorflow as tf #Manipulação de expressões matemáticas sobre tensores numéricos\n",
        "from tensorflow import keras #Biblioteca para Deep Learning\n",
        "from keras import layers #Estruturas de dados para Deep Learning\n",
        "from keras.preprocessing.sequence import pad_sequences #Pacote para preenchimento de sequências\n",
        "from keras import activations, optimizers, losses #Módulos para ativação, otimizadores e funções de loss\n",
        "from keras.callbacks import ModelCheckpoint #pacote para salvar o melhor modelo\n",
        "from keras.preprocessing.text import Tokenizer #Tokenizador\n",
        "from keras.models import Sequential #Classe para criação de redes neurais\n",
        "from keras.layers import Embedding, GRU, Dense, Dropout #Pacote para criação de redes neurais\n",
        "from keras.layers import Input, concatenate #Pacote para criação de redes neurais\n",
        "from keras.models import Model #Pacote para criação de redes neurais\n",
        "import matplotlib.pyplot as plt #Biblioteca para visualização de dados\n",
        "import seaborn as sns #Biblioteca para visualização de dados\n",
        "import numpy as np #Operações em arrays multidimensionais\n",
        "import pandas as pd #Biblioteca para análise e manipulação de dados\n",
        "import random #Geração de números aleatórios\n",
        "import string #Operações em Strings\n",
        "import re #Operações em expressões regulares\n",
        "from sklearn.model_selection import train_test_split #Divisão de conjuntos\n",
        "from sklearn.metrics import confusion_matrix #Matriz de confusão\n",
        "from sklearn.metrics import f1_score, precision_score, recall_score #Importa F1, Precision e Recall\n",
        "from sklearn.metrics import roc_curve, auc #Importa curva ROC\n",
        "from sklearn.utils import shuffle #Embaralhamento\n",
        "from sklearn.metrics import accuracy_score #Métricas\n",
        "from google.colab import drive #Conexão do Google Colab ao Google Drive\n",
        "import sympy as sp #Biblioteca para resolução de matemática simbólica"
      ]
    },
    {
      "cell_type": "markdown",
      "metadata": {
        "id": "ebL2TrnjkLd7"
      },
      "source": [
        "Leitura e filtragem do log das interações dos estudantes no PAT2Math."
      ]
    },
    {
      "cell_type": "code",
      "execution_count": null,
      "metadata": {
        "id": "gKZkVxJvFDXt"
      },
      "outputs": [],
      "source": [
        "#Conexão com o Google Drive\n",
        "drive.mount('/content/drive')"
      ]
    },
    {
      "cell_type": "code",
      "execution_count": null,
      "metadata": {
        "id": "VGQmzhgGTlOj"
      },
      "outputs": [],
      "source": [
        "#Leitura do log de interações do PAT2Math, armazenado no Google Drive\n",
        "log = pd.read_csv(\"/content/drive/MyDrive/colab/fabio-mestrado/log_with_current_step_pat2math.csv\", sep=\",\", encoding=\"latin-1\")\n",
        "log.head()"
      ]
    },
    {
      "cell_type": "code",
      "execution_count": null,
      "metadata": {
        "id": "g06M9oCKflex"
      },
      "outputs": [],
      "source": [
        "#Filtragem do log para quatro colunas\n",
        "log = log[[\"initial_equation\", \"last_correct_step\", \"currentStep\", \"step_is_correct\"]]\n",
        "log.head()"
      ]
    },
    {
      "cell_type": "code",
      "execution_count": null,
      "metadata": {
        "id": "erN77Eha9up6"
      },
      "outputs": [],
      "source": [
        "# Verifica a quatidade de dados faltantes em cada coluna\n",
        "dados_faltantes = log.isna().sum()\n",
        "print(dados_faltantes)"
      ]
    },
    {
      "cell_type": "markdown",
      "metadata": {
        "id": "Y-DN-2on_G3x"
      },
      "source": [
        "# Junção de colunas:\n",
        "Para ampliação do conjunto de dados, quando a coluna last_correct_step é diferente de initial_equation, ela é usada como equação inicial, ou seja, uma nova instância é criada, contendo os dados de last_correct_step na coluna initial_equation, mantendo os dados de currentStep e step_is_correct, nas suas colunas equivalentes.\n",
        "\n",
        "No final do procedimento, a coluna last_correct_step é excluída."
      ]
    },
    {
      "cell_type": "code",
      "execution_count": null,
      "metadata": {
        "id": "EQ5E3Xwb9zu0"
      },
      "outputs": [],
      "source": [
        "#Amplia o número de instâncias, inserindo last_correct_step como initial_equation, quando contiverem valores diferentes.\n",
        "\n",
        "# Criar uma lista para armazenar os novos dados\n",
        "new_rows = []\n",
        "\n",
        "# Iterar sobre cada linha do DataFrame\n",
        "for index, row in log.iterrows():\n",
        "    if row['initial_equation'] != row['last_correct_step']:\n",
        "        new_row = row.copy()  # Copiar a linha existente\n",
        "        new_row['initial_equation'] = row['last_correct_step']  # Atualizar 'initial_equation'\n",
        "        new_rows.append(new_row)  # Adicionar a nova linha à lista\n",
        "\n",
        "# Adicionar as novas linhas ao DataFrame\n",
        "log = log.append(new_rows, ignore_index=True)"
      ]
    },
    {
      "cell_type": "code",
      "execution_count": null,
      "metadata": {
        "id": "-bQrPlVa9-NE"
      },
      "outputs": [],
      "source": [
        "#Filtra o log resultante para apenas três colunas\n",
        "log = log[[\"initial_equation\", \"currentStep\", \"step_is_correct\"]]\n",
        "log"
      ]
    },
    {
      "cell_type": "markdown",
      "metadata": {
        "id": "SiADD1Ji_5WC"
      },
      "source": [
        "A junção de colunas resulta em 251.777 instâncias."
      ]
    },
    {
      "cell_type": "markdown",
      "source": [
        "# Tratamento de Dados:\n",
        "\n",
        "*   Retirada de espaços em branco\n",
        "*   Retiradas de duplicatas\n",
        "*   Retirada de dados faltantes\n",
        "*   Verificação de caracteres inválidos\n",
        "*   Padronização da equação\n",
        "*   Checagem e correção dos rótulos"
      ],
      "metadata": {
        "id": "Gw8rzVkUxEfH"
      }
    },
    {
      "cell_type": "markdown",
      "source": [
        "## Retira espaços em branco\n",
        "\n",
        "Retira espaços em branco nas colinas initial_equation e currentStep."
      ],
      "metadata": {
        "id": "3Bf65VP4xWhd"
      }
    },
    {
      "cell_type": "code",
      "source": [
        "#Exclui espaços em branco\n",
        "log[\"initial_equation\"] = log[\"initial_equation\"].replace(\" \", \"\")\n",
        "log[\"currentStep\"] = log[\"currentStep\"].replace(\" \", \"\")"
      ],
      "metadata": {
        "id": "UQdNNQROGYeu"
      },
      "execution_count": null,
      "outputs": []
    },
    {
      "cell_type": "markdown",
      "metadata": {
        "id": "mEfMHfw2AK4a"
      },
      "source": [
        "## Retira duplicatas\n",
        "\n",
        "Exclui instâncias que contém dados duplicados, usando como chave as duas colunas: initial_equation e currentStep. Só exclui quando ambas contiverem valores iguais, reduzindo o número de instâncias para 34.769."
      ]
    },
    {
      "cell_type": "code",
      "execution_count": null,
      "metadata": {
        "id": "Aek1yBd8AM2S"
      },
      "outputs": [],
      "source": [
        "#Exclui instâncias duplicadas\n",
        "log = log.drop_duplicates(subset=['initial_equation', 'currentStep'])\n",
        "log.head(), log.shape"
      ]
    },
    {
      "cell_type": "markdown",
      "metadata": {
        "id": "l4AvvU0uAXos"
      },
      "source": [
        "## Retira linhas com valores faltantes\n",
        "\n",
        "Exclui as instâncias que contém valores faltantes, reduzindo o número de instâncias para 30.279."
      ]
    },
    {
      "cell_type": "code",
      "execution_count": null,
      "metadata": {
        "id": "FTDhjc9IAW8c"
      },
      "outputs": [],
      "source": [
        "#Exclui as instâncias que contém valores faltantes\n",
        "log = log.dropna()\n",
        "log.head(), log.shape"
      ]
    },
    {
      "cell_type": "markdown",
      "source": [
        "Verifica o número de rótulos corretos e incorretos"
      ],
      "metadata": {
        "id": "FfkOPoHhyF6-"
      }
    },
    {
      "cell_type": "code",
      "source": [
        "#Conta número de instâncias com label incorreto e correto\n",
        "counts = log[\"step_is_correct\"].value_counts()\n",
        "counts"
      ],
      "metadata": {
        "id": "ZRFU0BIGyIP3"
      },
      "execution_count": null,
      "outputs": []
    },
    {
      "cell_type": "code",
      "source": [
        "# Crie um gráfico de barras\n",
        "plt.bar(counts.index, counts.values, color=['red', 'blue'], edgecolor='k')\n",
        "\n",
        "# Adicione rótulos e título\n",
        "plt.xlabel(\"Status\")\n",
        "plt.ylabel(\"Instâncias\")\n",
        "plt.title(\"Contagem de Instâncias com Rótulo Incorreto e Correto\")\n",
        "\n",
        "# Personalize os rótulos no eixo x (opcional)\n",
        "plt.xticks(counts.index, ['Incorreto', 'Correto'])\n",
        "\n",
        "# Mostre o gráfico\n",
        "plt.show()"
      ],
      "metadata": {
        "id": "A1r6YqbjyL0l"
      },
      "execution_count": null,
      "outputs": []
    },
    {
      "cell_type": "markdown",
      "source": [
        "## Correção de rótulos\n",
        "\n",
        "Primeiramente, a função has_invalid_characters verifica se a equação possui caracteres inválidos e insere o resultado (Verdadeiro ou Falso) em uma nova coluna.\n",
        "\n",
        "Após isso, a equação é padronizada e a função resolver_e_comparar resolve initial_equation e currentStep e verifica se seus resultados são iguais (indicando que o passo está correto e que o rótulo deveria constar como correto). Com base nisso, insere uma nova coluna informando se o rótulo do dataset está certo ou errado.\n",
        "\n",
        "Por fim, a função altera_label, altera os rótulos que estiverem anotados de forma incorreta."
      ],
      "metadata": {
        "id": "0K9AZBV6yQVe"
      }
    },
    {
      "cell_type": "code",
      "source": [
        "#Função que verifica se a equação contém caracteres inválidos\n",
        "def has_invalid_characters(text):\n",
        "\n",
        "    # Use uma expressão regular para encontrar qualquer caractere que não esteja na lista permitida\n",
        "    pattern = r'[^*+\\-()/=xX\\d\\s]'  # Qualquer coisa que não seja *, +, -, /, (, ), =, x, dígito ou espaço em branco\n",
        "    return bool(re.search(pattern, text))\n",
        "\n",
        "# Aplica a função has_invalid_characters à coluna currentStep e cria uma nova coluna \"has_invalid_chars\"\n",
        "log['has_invalid_chars'] = log['currentStep'].apply(has_invalid_characters)\n",
        "\n",
        "# Exibe as linhas onde foram encontrados caracteres inválidos\n",
        "invalid_rows = log[log['has_invalid_chars'] == True]\n",
        "invalid_rows"
      ],
      "metadata": {
        "id": "F1zdac0_wwVY"
      },
      "execution_count": null,
      "outputs": []
    },
    {
      "cell_type": "code",
      "source": [
        "#Conta o número de instâncias que contém caracteres inválidos\n",
        "log[\"has_invalid_chars\"].value_counts()"
      ],
      "metadata": {
        "id": "SZhjs9HpyaPF"
      },
      "execution_count": null,
      "outputs": []
    },
    {
      "cell_type": "markdown",
      "source": [
        "Ao todo são 1.118 instâncias que contém caracteres inválidos."
      ],
      "metadata": {
        "id": "VSlyZis6yeX9"
      }
    },
    {
      "cell_type": "code",
      "source": [
        "#Função para padronizar uma equação\n",
        "def padronizar_equacao(eq_str):\n",
        "    # Remove espaços em branco e transforma \"X\" em \"x\"\n",
        "    eq_str = eq_str.replace(\" \", \"\").replace(\"X\", \"x\")\n",
        "\n",
        "    # Adiciona \"*\" entre coeficiente e variável (por exemplo, 2x vira 2*x)\n",
        "    eq_str = re.sub(r'(\\d)([a-z])', r'\\1*\\2', eq_str)\n",
        "\n",
        "    # Adiciona \"*\" entre coeficiente e abertura de parênteses (por exemplo, 2(2+4) vira 2*(2+4))\n",
        "    eq_str = re.sub(r'(\\d+)\\(', r'\\1*(', eq_str)\n",
        "\n",
        "    # Adiciona \"*\" entre variável x e abertura de parênteses (por exemplo, x(2+4) vira x*(2+4))\n",
        "    eq_str = re.sub(r'(x)(\\()', r'\\1*\\2', eq_str)\n",
        "\n",
        "    return eq_str"
      ],
      "metadata": {
        "id": "a8p_6KbGHD9P"
      },
      "execution_count": null,
      "outputs": []
    },
    {
      "cell_type": "code",
      "source": [
        "#Função que acha a solução de duas equações e retorna 1 se as soluções são iguais (passo correto) e 0 se são diferentes (passo incorreto)\n",
        "def resolver_e_comparar(eq1_str, eq2_str):\n",
        "\n",
        "    # Indicação de variáveis em SymPy\n",
        "    x = sp.symbols('x')\n",
        "\n",
        "    try:\n",
        "        # Padronizar o formato das equações\n",
        "        eq1_str = padronizar_equacao(eq1_str)\n",
        "        eq2_str = padronizar_equacao(eq2_str)\n",
        "\n",
        "        # Retorna 0 (passo incorreto) se a segunda equação (currentStep) possui caracteres inválidos - Sabe-se que são 1.118 instâncias\n",
        "        if has_invalid_characters(eq2_str):\n",
        "            return 0\n",
        "\n",
        "        # Retorna 0 (passo incorreto) se as equações estão vazias\n",
        "        if not eq1_str or not eq2_str:\n",
        "            return 0\n",
        "\n",
        "        # Retorna 0 (passo incorreto) se as equações não possuem sinal de \"=\"\n",
        "        if \"=\" not in eq1_str or \"=\" not in eq2_str:\n",
        "            return 0\n",
        "\n",
        "        # Divide ambas as equações pelo sinal de \"=\" e cria duas listas com as partes (eq1_parts e eq2_parts)\n",
        "        eq1_parts = eq1_str.split('=')\n",
        "        eq2_parts = eq2_str.split('=')\n",
        "\n",
        "        # Retorna 0 (passo incorreto) se as equações contém um número de partes diferente de 2\n",
        "        if len(eq1_parts) != 2 or len(eq2_parts) != 2:\n",
        "            return 0\n",
        "\n",
        "        # Retorna 0 (passo incorreto) se as partes da equação 2 (currentStep) estão vazias\n",
        "        if eq2_parts[0] == \"\" or eq2_parts[1] == \"\":\n",
        "            return 0\n",
        "\n",
        "        # Retira os espaços em branco das partes da equação 2 (currentStep)\n",
        "        eq2_parts[0] = eq2_parts[0].strip()\n",
        "        eq2_parts[1] = eq2_parts[1].strip()\n",
        "\n",
        "        # Retorna 0 (passo incorreto) se as partes da equação 2 (currentStep) são iguais a \"-0\"\n",
        "        if eq2_parts[0] == \"-0\" or eq2_parts[1] == \"-0\":\n",
        "            return 0\n",
        "\n",
        "        # Retorna 0 (passo incorreto) se as partes da equação 2 (currentStep) são iguais a \"0/\"\n",
        "        if eq2_parts[0].find(\"0/\") != -1:\n",
        "            return 0\n",
        "        if eq2_parts[1].find(\"0/\") != -1:\n",
        "            return 0\n",
        "\n",
        "        # Retorna 0 (passo incorreto) se as partes da equação 2 (currentStep) são iguais a \"(0)/\"\n",
        "        if eq2_parts[0].find(\"(0)/\") != -1:\n",
        "            return 0\n",
        "        if eq2_parts[1].find(\"(0)/\") != -1:\n",
        "            return 0\n",
        "\n",
        "        # Simplifica e formata as equações para uso no SymPy\n",
        "        eq1 = sp.Eq(sp.sympify(eq1_parts[0]), sp.sympify(eq1_parts[1]))\n",
        "        eq2 = sp.Eq(sp.sympify(eq2_parts[0]), sp.sympify(eq2_parts[1]))\n",
        "\n",
        "        # Tentar resolver as equações apenas se elas estiverem bem formadas\n",
        "        sol1 = sp.solve(eq1, x)\n",
        "        sol2 = sp.solve(eq2, x)\n",
        "\n",
        "        # Compara as soluções das duas equações, retornando 1 para soluções iguais (passo correto) e 0 para soluções diferentes (passo incorreto)\n",
        "        if sol1 == sol2:\n",
        "            return 1\n",
        "        else:\n",
        "            return 0\n",
        "    # Lança exceção no caso de erros no SymPy e retorna 0 (passo incorreto)\n",
        "    except (sp.SympifyError, ValueError, TypeError) as e:\n",
        "        return 0"
      ],
      "metadata": {
        "id": "2-bbJmIpw0xX"
      },
      "execution_count": null,
      "outputs": []
    },
    {
      "cell_type": "code",
      "source": [
        "# Aplica a função resolver_e_comparar a cada linha do DataFrame e cria a coluna label_verifica\n",
        "log['label_verifica'] = log.apply(lambda row: resolver_e_comparar(row['initial_equation'], row['currentStep']), axis=1)\n",
        "\n",
        "# Mapea os valores de \"step_is_correct\" e atualiza a coluna \"label_verifica\" (Label Correto ou Label Incorreto, de acordo com o resultado da função resolver_e_comparar)\n",
        "log['label_verifica'] = log.apply(lambda row: \"Label Correto\" if (row['label_verifica'] == 1 and row['step_is_correct'] == 1)\n",
        "                                           else (\"Label Correto\" if (row['label_verifica'] == 0 and row['step_is_correct'] == 0)\n",
        "                                                else \"Label Incorreto\"), axis=1)\n",
        "\n",
        "# Visualizar o DataFrame resultante\n",
        "log"
      ],
      "metadata": {
        "id": "InNn7SZ2HQuX"
      },
      "execution_count": null,
      "outputs": []
    },
    {
      "cell_type": "markdown",
      "source": [
        "São 28.218 instâncias com rótulo anotado corretamente e 2.061 instâncias com rótulo anotado de forma incorreta"
      ],
      "metadata": {
        "id": "rRH5bkWtyzjX"
      }
    },
    {
      "cell_type": "code",
      "source": [
        "log.value_counts(\"label_verifica\")"
      ],
      "metadata": {
        "id": "WWTP3L85w6cP"
      },
      "execution_count": null,
      "outputs": []
    },
    {
      "cell_type": "code",
      "source": [
        "value_counts_series = log[log['label_verifica'] == 'Label Incorreto']['step_is_correct'].value_counts()\n",
        "\n",
        "# Acesse as contagens específicas para 1.0 e 100\n",
        "count_label_incorreto_step_1 = value_counts_series.get(1.0, 0)\n",
        "count_label_incorreto_step_0 = value_counts_series.get(0.0, 0)\n",
        "\n",
        "print(f\"Quantidade de instâncias com 'Label Incorreto' e step_is_correct igual a 1.0: {count_label_incorreto_step_1}\")\n",
        "print(f\"Quantidade de instâncias com 'Label Incorreto' e step_is_correct igual a 0.0: {count_label_incorreto_step_0}\")"
      ],
      "metadata": {
        "id": "73D1iWJgxJ3W"
      },
      "execution_count": null,
      "outputs": []
    },
    {
      "cell_type": "markdown",
      "source": [
        "Desses 2.061 rótulos anotados incorretamente, 1.785 constam como incorretos e deveriam constar como corretos e 276 constam como corretos e deveriam constar como incorretos."
      ],
      "metadata": {
        "id": "Vnt_njLo2yPf"
      }
    },
    {
      "cell_type": "code",
      "source": [
        "#Função que altera os rótulos anotados incorretamente\n",
        "def altera_label(step_is_correct, label_verifica):\n",
        "\n",
        "    # Se o rótulo foi anotado incorretamente, inverte o seu valor (se é 1 vira 0 e se é 0 vira 1)\n",
        "    if label_verifica == \"Label Incorreto\":\n",
        "        if step_is_correct == 1.0:\n",
        "            step_is_correct = 0.0\n",
        "        elif step_is_correct == 0.0:\n",
        "            step_is_correct = 1.0\n",
        "\n",
        "    return step_is_correct\n",
        "\n",
        "#Atualiza os rótulos com a função altera_label\n",
        "log['step_is_correct'] = log.apply(lambda row: altera_label(row['step_is_correct'], row['label_verifica']), axis=1)"
      ],
      "metadata": {
        "id": "D72rm51pxM99"
      },
      "execution_count": null,
      "outputs": []
    },
    {
      "cell_type": "markdown",
      "source": [
        "Após as correções dos rótulos, o código de verificação é novamente chamado para checar se a atualização funcionou corretamente."
      ],
      "metadata": {
        "id": "3ZoSzU882-Y0"
      }
    },
    {
      "cell_type": "code",
      "source": [
        "# Aplica a função resolver_e_comparar a cada linha do DataFrame e cria uma coluna label_verifica\n",
        "log['label_verifica'] = log.apply(lambda row: resolver_e_comparar(row['initial_equation'], row['currentStep']), axis=1)\n",
        "\n",
        "# Mapea os valores de \"step_is_correct\" e atualiza a coluna label_verifica\n",
        "log['label_verifica'] = log.apply(lambda row: \"Label Correto\" if (row['label_verifica'] == 1 and row['step_is_correct'] == 1)\n",
        "                                           else (\"Label Correto\" if (row['label_verifica'] == 0 and row['step_is_correct'] == 0)\n",
        "                                                else \"Label Incorreto\"), axis=1)"
      ],
      "metadata": {
        "id": "fVDGTgGyxP52"
      },
      "execution_count": null,
      "outputs": []
    },
    {
      "cell_type": "code",
      "source": [
        "#Conta novamente o número de rótulos verificados como informados correta ou incorretamente\n",
        "log.value_counts(\"label_verifica\")"
      ],
      "metadata": {
        "id": "vCS7PjyMxSuu"
      },
      "execution_count": null,
      "outputs": []
    },
    {
      "cell_type": "markdown",
      "source": [
        "A nova verificação não encontrou valores de rótulos incorretos."
      ],
      "metadata": {
        "id": "NfS4XPZt3nLg"
      }
    },
    {
      "cell_type": "code",
      "source": [
        "#Conta novamente o número de rótulos corretos e incorretos\n",
        "counts = log.value_counts(\"step_is_correct\")\n",
        "counts"
      ],
      "metadata": {
        "id": "9BzVxPRfxVeH"
      },
      "execution_count": null,
      "outputs": []
    },
    {
      "cell_type": "markdown",
      "source": [
        "Agora, são 20.919 rótulos incorretos e 9.630 corretos."
      ],
      "metadata": {
        "id": "-UVPKiJI3v54"
      }
    },
    {
      "cell_type": "code",
      "source": [
        "# Crie um gráfico de barras\n",
        "plt.bar(counts.index, counts.values, color=['red', 'blue'], edgecolor='k')\n",
        "\n",
        "# Adicione rótulos e título\n",
        "plt.xlabel(\"Status\")\n",
        "plt.ylabel(\"Instâncias\")\n",
        "plt.title(\"Contagem de Instâncias com Rótulo Incorreto e Correto\")\n",
        "\n",
        "# Personalize os rótulos no eixo x (opcional)\n",
        "plt.xticks(counts.index, ['Incorreto', 'Correto'])\n",
        "\n",
        "# Mostre o gráfico\n",
        "plt.show()"
      ],
      "metadata": {
        "id": "U8f_lIIwxY61"
      },
      "execution_count": null,
      "outputs": []
    },
    {
      "cell_type": "code",
      "source": [
        "#Exclui as colunas label_verifica e has_invalid_chars\n",
        "log = log[[\"initial_equation\", \"currentStep\", \"step_is_correct\"]]"
      ],
      "metadata": {
        "id": "ee0rUdWGxbhR"
      },
      "execution_count": null,
      "outputs": []
    },
    {
      "cell_type": "code",
      "source": [
        "#Imprime o log atualizado\n",
        "log"
      ],
      "metadata": {
        "id": "OBWBYkCCxdTN"
      },
      "execution_count": null,
      "outputs": []
    },
    {
      "cell_type": "markdown",
      "source": [
        "# Pré-Processamento\n",
        "\n",
        "*    Balanceamento de Dados - Data Augmentation"
      ],
      "metadata": {
        "id": "33ItlSUF4A2V"
      }
    },
    {
      "cell_type": "markdown",
      "metadata": {
        "id": "lGNUtNt5SMfE"
      },
      "source": [
        "## Balanceamento de Dados\n",
        "\n",
        "O balanceamento de dados é realizado através da função data augmentation.\n",
        "\n",
        "*    A primeira função de data augmentation (augment_equation) recebe uma equação da coluna initial equation e o indicador correct (para gerar uma equação correta ou incorreta). Essa função, quando correct é informado como 1, insere operações aleatórias de adição, subtração, multiplicação e divisão dos dois lados da equação. No final, também aleatoriamente, pode inverter os lados da equação. Se correct é 0, a inserção é realizada em apenas um lado da equação, tornando-a incorreta.\n",
        "\n",
        "*    A segunda função (augment_equation_current) recebe uma equação da coluna initial equation, uma de currentStep e o indicador correct (para gerar uma equação correta ou incorreta). Essa função, quando correct é 1, copia o valor de initial_equation para currentStep e aleatoriamente pode inverter o lado. Se correct é 0, um valor inválido aleatório é inserido em currentStep."
      ]
    },
    {
      "cell_type": "code",
      "execution_count": null,
      "metadata": {
        "id": "g3Hh0uqvSYFu"
      },
      "outputs": [],
      "source": [
        "# Função de data augmentation para alterar initial equation, incluindo instâncias corretas ou incorretas\n",
        "def augment_equation(equation, correct):\n",
        "\n",
        "    # Separa os lados da equação e retira os espaços em branco\n",
        "    left, right = equation.split('=')\n",
        "    left = left.strip()\n",
        "    right = right.strip()\n",
        "\n",
        "    # Seleciona aleatoriamente uma ou duas operações\n",
        "    choice = random.choice([\"add\", \"multiply\", \"div\", \"add&multiply\", \"add&div\"])\n",
        "\n",
        "    # Gera constantes aleatórias entre -100 e 100 (inclusive)\n",
        "    constant_to_add = random.randint(-100, 100)\n",
        "    constant_to_multiply = random.choice([1, 2, 3, 4, 5, 6, 7, 8, 9, 10, 0, -1, -2, -3, -4, -5, -6, -7, -8, -9, -10])\n",
        "    constant_to_div = random.choice([1, 2, 3, 4, 5, 6, 7, 8, 9, 10, -1, -2, -3, -4, -5, -6, -7, -8, -9, -10])\n",
        "\n",
        "    # Se correct == 1, adiciona as operações a ambos os lados\n",
        "    if correct:\n",
        "      # Adição\n",
        "      if choice in [\"add\", \"add&multiply\", \"add&div\"]:\n",
        "        if constant_to_add >= 0:\n",
        "          left = f\"({left}) + {constant_to_add}\"\n",
        "          right = f\"({right}) + {constant_to_add}\"\n",
        "        else:\n",
        "          left = f\"({left}) + ({constant_to_add})\"\n",
        "          right = f\"({right}) + ({constant_to_add})\"\n",
        "\n",
        "      # Multiplicação\n",
        "      if choice in [\"multiply\", \"add&multiply\"]:\n",
        "        if constant_to_multiply >= 0:\n",
        "          left = f\"({left}) * {constant_to_multiply}\"\n",
        "          right = f\"({right}) * {constant_to_multiply}\"\n",
        "        else:\n",
        "          left = f\"({left}) * ({constant_to_multiply})\"\n",
        "          right = f\"({right}) * ({constant_to_multiply})\"\n",
        "\n",
        "      # Divisão\n",
        "      if choice in [\"div\", \"add&div\"]:\n",
        "        if constant_to_div >= 0:\n",
        "          left = f\"({left}) / {constant_to_div}\"\n",
        "          right = f\"({right}) / {constant_to_div}\"\n",
        "        else:\n",
        "          left = f\"({left}) / ({constant_to_div})\"\n",
        "          right = f\"({right}) / ({constant_to_div})\"\n",
        "\n",
        "    # Se correct == 0, adiciona as operações apenas no lado esquerdo\n",
        "    else:\n",
        "\n",
        "      # Adição\n",
        "      if choice in [\"add\", \"add&multiply\", \"add&div\"]:\n",
        "        if constant_to_add >= 0:\n",
        "          left = f\"({left}) + {constant_to_add}\"\n",
        "        else:\n",
        "          left = f\"({left}) + ({constant_to_add})\"\n",
        "\n",
        "      # Multiplicação\n",
        "      if choice in [\"multiply\", \"add&multiply\"]:\n",
        "        if constant_to_multiply >= 0:\n",
        "          left = f\"({left}) * {constant_to_multiply}\"\n",
        "        else:\n",
        "          left = f\"({left}) * ({constant_to_multiply})\"\n",
        "\n",
        "      # Divisão\n",
        "      if choice in [\"div\", \"add&div\"]:\n",
        "        if constant_to_div >= 0:\n",
        "          left = f\"({left}) / {constant_to_div}\"\n",
        "        else:\n",
        "          left = f\"({left}) / ({constant_to_div})\"\n",
        "\n",
        "    # Troca os lados da equação aleatoriamente\n",
        "    if random.choice([True, False]):\n",
        "        left, right = right, left\n",
        "\n",
        "    # Retira espaços em branco e retorna equação initial equation modificada\n",
        "    left = left.replace(\" \", \"\")\n",
        "    right = right.replace(\" \", \"\")\n",
        "    return f\"{left}={right}\"\n",
        "\n",
        "# Exemplo da equação \"2x + 3 = 5\" correta e incorreta\n",
        "equation = \"2x + 3 = 5\"\n",
        "augmented_equation1 = augment_equation(equation, 1)\n",
        "augmented_equation2 = augment_equation(equation, 0)\n",
        "print(\"Equação Correta: \", augmented_equation1)\n",
        "print(\"Equação Incorreta: \", augmented_equation2)"
      ]
    },
    {
      "cell_type": "code",
      "source": [
        "# Função de data augmentation para alterar currentStep, copiando o valor de initial equation ou incluindo valores inválidos\n",
        "def augment_equation_current(equation1, equation2, correct):\n",
        "\n",
        "    # Seleção de valores aleatórios\n",
        "    choice = random.choice([1, 2, 3, 4, 5, 6, 7, 8, 9, 10, 11])\n",
        "    incorretas = random.choice([\",\", \"&\", \"y\", \"a\", \"^\", \"[\", \"]\"])\n",
        "    constant1 = random.randint (-100, 100)\n",
        "    constant2 = random.randint (-100, 100)\n",
        "\n",
        "    # Se correct == 1, copia initial equation em currentStep e, aleatoriamente, inverte os lados da equação\n",
        "    if correct:\n",
        "      if choice in [1, 2, 3, 4, 5, 6]:\n",
        "        equation2 = equation1\n",
        "      else:\n",
        "        equation2 = equation1\n",
        "        left, right = equation2.split('=')\n",
        "        left = left.strip()\n",
        "        right = right.strip()\n",
        "        left = left.replace(\" \", \"\")\n",
        "        right = right.replace(\" \", \"\")\n",
        "        left, right = right, left\n",
        "        equation2 = f\"{left}={right}\"\n",
        "\n",
        "    # Se correct == 0, altera currentStep para um valor inválido aleatório\n",
        "    else:\n",
        "      if choice == 1:\n",
        "        equation2 = \"= x\"\n",
        "      elif choice == 2:\n",
        "        equation2 = \"x\"\n",
        "      elif choice == 3:\n",
        "        equation2 = f\"x={constant1}={constant2}\"\n",
        "      elif choice == 4:\n",
        "        equation2 = f\"x={constant1}{incorretas}{constant2}\"\n",
        "      elif choice == 5:\n",
        "        equation2 = f\"{constant1}\"\n",
        "      elif choice == 6:\n",
        "        equation2 = \"x=\"\n",
        "      elif choice == 7:\n",
        "        equation2 = \"-\"\n",
        "      elif choice == 8:\n",
        "        equation2 = \"=\"\n",
        "      elif choice == 9:\n",
        "        equation2 = \"+\"\n",
        "      elif choice == 10:\n",
        "        equation2 = \"*\"\n",
        "      elif choice == 11:\n",
        "        equation2 = \"/\"\n",
        "\n",
        "    # Retira espaçoes em branco e retorna currentStep atualizado\n",
        "    equation2 = equation2.replace(\" \", \"\")\n",
        "    equation2 = equation2.strip()\n",
        "    return equation2\n",
        "\n",
        "# Exemplo de uso da função com \"2x + 3 = 5\" como initial equation e \"x = 7\" como currentStep, para geração de equação correta e incorreta\n",
        "equation1 = \"2x + 3 = 5\"\n",
        "equation2 = \"x = 7\"\n",
        "augmented_equation_current1 = augment_equation_current(equation1, equation2, 1)\n",
        "augmented_equation_current2 = augment_equation_current(equation1, equation2, 0)\n",
        "print(\"Correta: \", augmented_equation_current1)\n",
        "print(\"Incorreta: \", augmented_equation_current2)"
      ],
      "metadata": {
        "id": "gZm06IlyxoE4"
      },
      "execution_count": null,
      "outputs": []
    },
    {
      "cell_type": "code",
      "execution_count": null,
      "metadata": {
        "id": "ljFtFbKZg-xZ"
      },
      "outputs": [],
      "source": [
        "# Variável log_temp recebe rótulos corretos (9.360)\n",
        "log_temp = log[log[\"step_is_correct\"] == 1.0]\n",
        "\n",
        "# Variável log_temp_subset recebe um subconjunto dos rótulos corretos (8.161)\n",
        "log_temp_subset = log_temp.head(8161)\n",
        "\n",
        "# Variável log_temp_subset2 recebe um subconjunto dos rótulos corretos (2.000)\n",
        "log_temp_subset2 = log_temp.head(2000)\n",
        "\n",
        "# Variável log_temp_subset3 recebe um subconjunto dos rótulos corretos (1.000)\n",
        "log_temp_subset3 = log_temp.head(1000)"
      ]
    },
    {
      "cell_type": "markdown",
      "source": [
        "O código abaixo aplica 5 vezes a função augment_equation com correct == 1, nos rótulos corretos emais uma no subconjunto de 1.000, aumentando de 9.360 instâncias corretas para 57.160.\n",
        "\n",
        "Após, ele aplica 3 vezes a função augment_equation com correct == 0, nos rótulos corretos e mais uma no subjconjunto de 8.161, aumentando os rótulos incorretos de 20.919 para 57.160.\n",
        "\n",
        "Por fim, são feitas duas aplicações de augment_equation_current, primeiro com correct == 0 (em 2.000 instâncias) e depois com current == 1 (em 2000 instâncias), aumento os rótulos corretos para 59.160 e os incorretos para 59.160, num total de 118.320 instâncias."
      ],
      "metadata": {
        "id": "efLdUmGO4hhY"
      }
    },
    {
      "cell_type": "code",
      "execution_count": null,
      "metadata": {
        "id": "HHNFiDuzhDrt"
      },
      "outputs": [],
      "source": [
        "# Lista de rótulos para as funções\n",
        "labels = [1.0, 1.0, 1.0, 1.0, 1.0, 0.0, 0.0, 0.0]\n",
        "labels_current = [0.0, 1.0]\n",
        "\n",
        "# Lista para armazenar os DataFrames gerados\n",
        "new_dataframes = []\n",
        "\n",
        "# Aplica função augment_equation 5 vezes para geração de equações corretas e 3 para geração de equações incorretas\n",
        "# Loop para aplicar as funções e criar os DataFrames\n",
        "for i, lab in enumerate(labels):\n",
        "    new_rows = log_temp.apply(lambda row: pd.Series({'initial_equation': augment_equation(row['initial_equation'], int(labels[i])),\n",
        "                                                     'currentStep': row['currentStep'],\n",
        "                                                     'step_is_correct': labels[i]}), axis=1)\n",
        "    # Anexar as novas linhas ao DataFrame original\n",
        "    log = log.append(new_rows, ignore_index=True)\n",
        "\n",
        "# Aplica função augment_equation para geração de equações incorretas\n",
        "new_rows = log_temp_subset3.apply(lambda row: pd.Series({'initial_equation': augment_equation(row['initial_equation'], 1),\n",
        "                                                     'currentStep': row['currentStep'],\n",
        "                                                     'step_is_correct': 1.0}), axis=1)\n",
        "# Anexar as novas linhas ao DataFrame original\n",
        "log = log.append(new_rows, ignore_index=True)\n",
        "\n",
        "# Aplica função augment_equation para geração de equações incorretas\n",
        "new_rows = log_temp_subset.apply(lambda row: pd.Series({'initial_equation': augment_equation(row['initial_equation'], 0),\n",
        "                                                     'currentStep': row['currentStep'],\n",
        "                                                     'step_is_correct': 0.0}), axis=1)\n",
        "# Anexar as novas linhas ao DataFrame original\n",
        "log = log.append(new_rows, ignore_index=True)\n",
        "\n",
        "for j, lab in enumerate(labels_current):\n",
        "# Aplica função augment_equation_current 1 vez para geração de equações incorretas e 1 vez para geração de equações corretas\n",
        "    new_rows = log_temp_subset2.apply(lambda row: pd.Series({'initial_equation': row['initial_equation'],\n",
        "                                                     'currentStep': augment_equation_current(row['initial_equation'], row['currentStep'], int(labels_current[j])),\n",
        "                                                     'step_is_correct': labels_current[j]}), axis=1)\n",
        "    # Anexar as novas linhas ao DataFrame original\n",
        "    log = log.append(new_rows, ignore_index=True)\n",
        "\n",
        "# Imprime o log atualizado\n",
        "log"
      ]
    },
    {
      "cell_type": "code",
      "execution_count": null,
      "metadata": {
        "id": "sVoiRhulhJWL"
      },
      "outputs": [],
      "source": [
        "# Contar o número de ocorrências de step_is_correct igual a 1 e 0\n",
        "count_correct = log['step_is_correct'].value_counts()[1.0]\n",
        "count_incorrect = log['step_is_correct'].value_counts()[0.0]\n",
        "\n",
        "print(\"Número de linhas com passos corretos:\", count_correct)\n",
        "print(\"Número de linhas com passos incorretos:\", count_incorrect)"
      ]
    },
    {
      "cell_type": "code",
      "source": [
        "# Variável counts recebe os valores de rótulos corretos e incorretos\n",
        "counts = log[\"step_is_correct\"].value_counts()\n",
        "\n",
        "# Crie um gráfico de barras\n",
        "plt.bar(counts.index, counts.values, color=['red', 'blue'], edgecolor='k')\n",
        "\n",
        "# Adicione rótulos e título\n",
        "plt.xlabel(\"Status\")\n",
        "plt.ylabel(\"Instâncias\")\n",
        "plt.title(\"Contagem de Instâncias com Rótulo Incorreto e Correto\")\n",
        "\n",
        "# Personalize os rótulos no eixo x (opcional)\n",
        "plt.xticks(counts.index, ['Incorreto', 'Correto'])\n",
        "\n",
        "# Mostre o gráfico\n",
        "plt.show()"
      ],
      "metadata": {
        "id": "m4zNhQbY41Y7"
      },
      "execution_count": null,
      "outputs": []
    },
    {
      "cell_type": "code",
      "execution_count": null,
      "metadata": {
        "id": "5KzhaIQwSshj"
      },
      "outputs": [],
      "source": [
        "# Exclui os valores duplicados novamente, desde que constem como iguais em ambas as colunas: initial equation e currentStep\n",
        "log = log.drop_duplicates(subset=['initial_equation', 'currentStep'])\n",
        "log.head(), log.shape"
      ]
    },
    {
      "cell_type": "code",
      "source": [
        "# Contar o número de ocorrências de step_is_correct igual a 1 e 0\n",
        "counts = counts = log[\"step_is_correct\"].value_counts()\n",
        "counts"
      ],
      "metadata": {
        "id": "asna3r6X4_nw"
      },
      "execution_count": null,
      "outputs": []
    },
    {
      "cell_type": "code",
      "execution_count": null,
      "metadata": {
        "id": "KMIG-S7ASv6f"
      },
      "outputs": [],
      "source": [
        "# Crie um gráfico de barras\n",
        "plt.bar(counts.index, counts.values, color=['red', 'blue'], edgecolor='k')\n",
        "\n",
        "# Adicione rótulos e título\n",
        "plt.xlabel(\"Status\")\n",
        "plt.ylabel(\"Instâncias\")\n",
        "plt.title(\"Contagem de Instâncias com Rótulo Incorreto e Correto\")\n",
        "\n",
        "# Personalize os rótulos no eixo x (opcional)\n",
        "plt.xticks(counts.index, ['Incorreto', 'Correto'])\n",
        "\n",
        "# Mostre o gráfico\n",
        "plt.show()"
      ]
    },
    {
      "cell_type": "code",
      "execution_count": null,
      "metadata": {
        "id": "HZp9ntFESy4D"
      },
      "outputs": [],
      "source": [
        "#Imprime log atualizado\n",
        "log"
      ]
    },
    {
      "cell_type": "code",
      "source": [
        "#Converte o tipo da coluna step is correct, de float para inteiro.\n",
        "log['step_is_correct'] = log['step_is_correct'].astype(int)"
      ],
      "metadata": {
        "id": "MDadW7UxH_qP"
      },
      "execution_count": null,
      "outputs": []
    },
    {
      "cell_type": "code",
      "source": [
        "log.head()"
      ],
      "metadata": {
        "id": "onFHVxWMICDB"
      },
      "execution_count": null,
      "outputs": []
    },
    {
      "cell_type": "markdown",
      "source": [
        "Embaralhar o conjunto de dados."
      ],
      "metadata": {
        "id": "HXy3TTjjIGUO"
      }
    },
    {
      "cell_type": "code",
      "execution_count": null,
      "metadata": {
        "id": "_N4ccSNL0v51"
      },
      "outputs": [],
      "source": [
        "# Cria variável para embaralhar o conjunto de dados\n",
        "passos_embaralhados = shuffle(log)\n",
        "passos_embaralhados.head()"
      ]
    },
    {
      "cell_type": "code",
      "execution_count": null,
      "metadata": {
        "id": "MqoGdmzfvvxq"
      },
      "outputs": [],
      "source": [
        "# Embaralha os dados de entrada e os rótulos\n",
        "X_series = passos_embaralhados[['initial_equation', 'currentStep']]\n",
        "y_series = passos_embaralhados['step_is_correct']\n",
        "X = X_series.values.tolist()\n",
        "y = y_series.tolist()"
      ]
    },
    {
      "cell_type": "markdown",
      "metadata": {
        "id": "maJqv7QXtjeB"
      },
      "source": [
        "## Divisão de Dados\n",
        "\n",
        "Aqui os dados são divididos em três conjuntos: conjunto de treinamento, com 70% das instâncias, conjunto de validação, com 20% das instâncias e conjunto de testes, com 10% das instâncias."
      ]
    },
    {
      "cell_type": "code",
      "source": [
        "# Usar o sklearn para dividir os dados\n",
        "X_train, X_test, y_train, y_test = train_test_split(X_series, y_series, test_size=0.1, random_state=42)\n",
        "X_train, X_val, y_train, y_val = train_test_split(X_train, y_train, test_size=0.2, random_state=42)"
      ],
      "metadata": {
        "id": "XYP0B_PU6Cs3"
      },
      "execution_count": null,
      "outputs": []
    },
    {
      "cell_type": "markdown",
      "source": [
        "## Tokenização, Encoding e Padding"
      ],
      "metadata": {
        "id": "Rpx4DRfO6d04"
      }
    },
    {
      "cell_type": "code",
      "source": [
        "# Tokenização\n",
        "max_words = 5000  # Número máximo de palavras a serem mantidas no vocabulário\n",
        "tokenizer_initial_equation = Tokenizer(num_words=max_words, oov_token='<OOV>')\n",
        "tokenizer_initial_equation.fit_on_texts(X_train['initial_equation'])\n",
        "\n",
        "tokenizer_current_step = Tokenizer(num_words=max_words, oov_token='<OOV>')\n",
        "tokenizer_current_step.fit_on_texts(X_train['currentStep'])\n",
        "\n",
        "X_train_seq_initial_equation = tokenizer_initial_equation.texts_to_sequences(X_train['initial_equation'])\n",
        "X_val_seq_initial_equation = tokenizer_initial_equation.texts_to_sequences(X_val['initial_equation'])\n",
        "X_test_seq_initial_equation = tokenizer_initial_equation.texts_to_sequences(X_test['initial_equation'])\n",
        "\n",
        "X_train_seq_current_step = tokenizer_current_step.texts_to_sequences(X_train['currentStep'])\n",
        "X_val_seq_current_step = tokenizer_current_step.texts_to_sequences(X_val['currentStep'])\n",
        "X_test_seq_current_step = tokenizer_current_step.texts_to_sequences(X_test['currentStep'])"
      ],
      "metadata": {
        "id": "gaAvwIUDPcS-"
      },
      "execution_count": null,
      "outputs": []
    },
    {
      "cell_type": "code",
      "source": [
        "# Padding\n",
        "max_sequence_length = 20\n",
        "\n",
        "X_train_padded_initial_equation = pad_sequences(X_train_seq_initial_equation, maxlen=max_sequence_length, padding='post', truncating='post')\n",
        "X_val_padded_initial_equation = pad_sequences(X_val_seq_initial_equation, maxlen=max_sequence_length, padding='post', truncating='post')\n",
        "X_test_padded_initial_equation = pad_sequences(X_test_seq_initial_equation, maxlen=max_sequence_length, padding='post', truncating='post')\n",
        "\n",
        "X_train_padded_current_step = pad_sequences(X_train_seq_current_step, maxlen=max_sequence_length, padding='post', truncating='post')\n",
        "X_val_padded_current_step = pad_sequences(X_val_seq_current_step, maxlen=max_sequence_length, padding='post', truncating='post')\n",
        "X_test_padded_current_step = pad_sequences(X_test_seq_current_step, maxlen=max_sequence_length, padding='post', truncating='post')"
      ],
      "metadata": {
        "id": "J8vwtpToPiou"
      },
      "execution_count": null,
      "outputs": []
    },
    {
      "cell_type": "markdown",
      "source": [
        "# Criação da Rede"
      ],
      "metadata": {
        "id": "2i1kd2GX6yKJ"
      }
    },
    {
      "cell_type": "code",
      "source": [
        "# Construir o modelo GRU\n",
        "embedding_dim = 128\n",
        "\n",
        "# Initial Equation\n",
        "input_initial_equation = Input(shape=(max_sequence_length,))\n",
        "embedding_layer = Embedding(input_dim=max_words, output_dim=embedding_dim)(input_initial_equation)\n",
        "gru_layer = GRU(128)(embedding_layer)\n",
        "\n",
        "#Curreny Step\n",
        "input_current_step = Input(shape=(max_sequence_length,))\n",
        "embedding_layer2 = Embedding(input_dim=max_words, output_dim=embedding_dim)(input_current_step)\n",
        "gru_layer2 = GRU(128)(embedding_layer2)\n",
        "\n",
        "# Concatena as camadas\n",
        "concatenated = concatenate([gru_layer, gru_layer2])\n",
        "\n",
        "#Output Layer\n",
        "output_layer = Dense(1, activation='sigmoid')(concatenated)\n",
        "model = Model(inputs=[input_initial_equation, input_current_step], outputs=output_layer)"
      ],
      "metadata": {
        "id": "rBbU6gLMPm7g"
      },
      "execution_count": null,
      "outputs": []
    },
    {
      "cell_type": "markdown",
      "source": [
        "# Treinamento e Validação\n",
        "\n",
        "O modelo é treinado e validado com 25 épocas. O melhor modelo é armazenado na variável 'melhor_modelo'. O otimizador utilizado é Adam e a função de loss é Binary Crossentropy."
      ],
      "metadata": {
        "id": "gfcqm_6xIdy1"
      }
    },
    {
      "cell_type": "code",
      "source": [
        "# Compilar o modelo\n",
        "model.compile(optimizer='adam', loss='binary_crossentropy', metrics=['accuracy'])\n",
        "\n",
        "# Treinar o modelo\n",
        "checkpoint = ModelCheckpoint('melhor_modelo', monitor='val_loss', save_best_only=True, save_format='tf')\n",
        "history = model.fit([X_train_padded_initial_equation, X_train_padded_current_step], y_train,\n",
        "          validation_data=([X_val_padded_initial_equation, X_val_padded_current_step], y_val),\n",
        "          epochs=25, batch_size=32)\n",
        "\n",
        "# Imprime as métricas de treinamento e validação\n",
        "print(\"Training loss:\", history.history['loss'])\n",
        "print(\"Training accuracy:\", history.history['accuracy'])\n",
        "print(\"Validation loss:\", history.history['val_loss'])\n",
        "print(\"Validation accuracy:\", history.history['val_accuracy'])"
      ],
      "metadata": {
        "id": "FMbFPakxIepY"
      },
      "execution_count": null,
      "outputs": []
    },
    {
      "cell_type": "markdown",
      "metadata": {
        "id": "KbhTZfW2yz12"
      },
      "source": [
        "# Teste\n",
        "Usando o conjunto de dados de teste para avaliar o modelo"
      ]
    },
    {
      "cell_type": "code",
      "execution_count": null,
      "metadata": {
        "id": "aqwLDuRhzB4D"
      },
      "outputs": [],
      "source": [
        "# Avaliar o modelo no conjunto de teste com return_dict=True\n",
        "benchmarks = model.evaluate([X_test_padded_initial_equation, X_test_padded_current_step], y_test, return_dict=True)\n",
        "print(benchmarks)"
      ]
    },
    {
      "cell_type": "code",
      "source": [
        "N_EPOCHS = 25\n",
        "# Plotar a curva de aprendizado da perda\n",
        "plt.figure(figsize=(10, 5))\n",
        "plt.plot(range(1, N_EPOCHS+1), history.history['loss'], 'r', label='Training Loss')\n",
        "plt.plot(range(1, N_EPOCHS+1), history.history['val_loss'], 'b', label='Validation Loss')\n",
        "plt.title('Curva de Aprendizado - Perda')\n",
        "plt.xlabel('Epochs')\n",
        "plt.ylabel('Loss')\n",
        "plt.legend()\n",
        "plt.grid()\n",
        "plt.show()\n",
        "\n",
        "# Plotar a curva de aprendizado da acurácia\n",
        "plt.figure(figsize=(10, 5))\n",
        "plt.plot(range(1, N_EPOCHS+1), history.history['accuracy'], 'r', label='Training Accuracy')\n",
        "plt.plot(range(1, N_EPOCHS+1), history.history['val_accuracy'], 'b', label='Validation Accuracy')\n",
        "plt.title('Curva de Aprendizado - Acurácia')\n",
        "plt.xlabel('Epochs')\n",
        "plt.ylabel('Accuracy')\n",
        "plt.legend()\n",
        "plt.grid()\n",
        "plt.show()"
      ],
      "metadata": {
        "id": "Nc2OS_oaIYvq"
      },
      "execution_count": null,
      "outputs": []
    },
    {
      "cell_type": "code",
      "source": [
        "# Avaliar o modelo no conjunto de testes\n",
        "y_pred = model.predict([X_test_padded_initial_equation, X_test_padded_current_step])\n",
        "y_pred_binary = (y_pred > 0.5).astype(int)\n",
        "\n",
        "# Calcular a acurácia\n",
        "accuracy = accuracy_score(y_test, y_pred_binary)\n",
        "print(\"Acurácia:\", accuracy)\n",
        "\n",
        "# Crie uma lista de resultados com base na comparação entre Previsão e Rótulo\n",
        "resultados = [\"Certo\" if p == r else \"Errado\" for p, r in zip(y_pred_binary.squeeze(), y_test)]\n",
        "\n",
        "# Crie um DataFrame com as previsões, probabilidades e entradas originais\n",
        "results_df = pd.DataFrame({\n",
        "    \"Equação Inicial\": X_test['initial_equation'],  # Use os textos decodificados\n",
        "    \"Passo Atual\": X_test['currentStep'],  # Use os textos decodificados\n",
        "    \"Probabilidade (%)\": y_pred.squeeze(),\n",
        "    \"Previsão\": y_pred_binary.squeeze(),\n",
        "    \"Rótulo\": y_test ,  # Adicione a lista de rótulos\n",
        "    \"Resultado\": resultados  # Adicione a lista de resultados\n",
        "})"
      ],
      "metadata": {
        "id": "ddbsXVWOXMSv"
      },
      "execution_count": null,
      "outputs": []
    },
    {
      "cell_type": "code",
      "source": [
        "results_df"
      ],
      "metadata": {
        "id": "suUNJQ7va6-t"
      },
      "execution_count": null,
      "outputs": []
    },
    {
      "cell_type": "code",
      "source": [
        "results_df[\"Resultado\"].value_counts()"
      ],
      "metadata": {
        "id": "gMyudtMYa_ws"
      },
      "execution_count": null,
      "outputs": []
    },
    {
      "cell_type": "code",
      "source": [
        "# Contagem dos valores \"Certo\" e \"Errado\" na coluna \"Resultado\"\n",
        "contagem_resultados = results_df[\"Resultado\"].value_counts()\n",
        "\n",
        "# Calcula o percentual de acerto\n",
        "percentual_acerto = (contagem_resultados[\"Certo\"] / len(results_df)) * 100\n",
        "\n",
        "# Imprime o percentual de acerto\n",
        "print(f\"Percentual de acerto: {percentual_acerto:.2f}%\")"
      ],
      "metadata": {
        "id": "MxzFpOz7bZeF"
      },
      "execution_count": null,
      "outputs": []
    },
    {
      "cell_type": "code",
      "source": [
        "# Calcular a matriz de confusão\n",
        "cm = confusion_matrix(y_test, y_pred_binary.squeeze())\n",
        "\n",
        "# Definir rótulos das classes (substitua pelos seus rótulos)\n",
        "class_names = ['Classe 0', 'Classe 1']\n",
        "\n",
        "# Criar um heatmap da matriz de confusão\n",
        "plt.figure(figsize=(8, 6))\n",
        "sns.set(font_scale=1.2)\n",
        "sns.heatmap(cm, annot=True, fmt='d', cmap='Blues', cbar=False,\n",
        "            xticklabels=class_names, yticklabels=class_names)\n",
        "plt.xlabel('Rótulos Previstos')\n",
        "plt.ylabel('Rótulos Reais')\n",
        "plt.title('Matriz de Confusão')\n",
        "plt.show()"
      ],
      "metadata": {
        "id": "sfkxE33fpLOd"
      },
      "execution_count": null,
      "outputs": []
    },
    {
      "cell_type": "markdown",
      "source": [
        "## Precision, Recall e F1 Score\n",
        "\n",
        "*    Precision = Verdadeiros Positivos(TP) / (Verdadeiros Positivos(TP) + Falsos Positivos(FP))\n",
        "*    Recall = Verdadeiros Positivos(TP) / (Verdadeiros Positivos(TP) + Falsos Negativos(FN))\n",
        "*    F1 Score = 2 * (Precision * Recall) / (Precision + Recall)"
      ],
      "metadata": {
        "id": "j-TPdw_RIyia"
      }
    },
    {
      "cell_type": "code",
      "source": [
        "# Exemplo de valores verdadeiros (ground truth) e previsões\n",
        "verdadeiros = y_test\n",
        "previsoes = y_pred_binary.squeeze()\n",
        "\n",
        "# Calcular a precisão e a revocação\n",
        "precisao = precision_score(verdadeiros, previsoes)\n",
        "revocacao = recall_score(verdadeiros, previsoes)\n",
        "# Calcular o F1 Score\n",
        "f1 = f1_score(verdadeiros, previsoes)\n",
        "\n",
        "print(\"Precisão (Precision):\", precisao)\n",
        "print(\"Revocação (Recall):\", revocacao)\n",
        "print(\"F1 Score:\", f1)"
      ],
      "metadata": {
        "id": "TpY0WP1TIzOB"
      },
      "execution_count": null,
      "outputs": []
    },
    {
      "cell_type": "markdown",
      "source": [
        "## Curva ROC"
      ],
      "metadata": {
        "id": "eTyGS55SI2Ke"
      }
    },
    {
      "cell_type": "code",
      "source": [
        "fpr, tpr, thresholds = roc_curve(y_test, y_pred.squeeze())\n",
        "roc_auc = auc(fpr, tpr)\n",
        "\n",
        "# Plote a curva ROC\n",
        "plt.figure()\n",
        "plt.plot(fpr, tpr, color='darkorange', lw=2, label='Curva ROC (AUC = %0.2f)' % roc_auc)\n",
        "plt.plot([0, 1], [0, 1], color='navy', lw=2, linestyle='--')\n",
        "plt.xlim([0.0, 1.0])\n",
        "plt.ylim([0.0, 1.05])\n",
        "plt.xlabel('Taxa de Falsos Positivos')\n",
        "plt.ylabel('Taxa de Verdadeiros Positivos')\n",
        "plt.title('Curva ROC')\n",
        "plt.legend(loc='lower right')\n",
        "plt.show()"
      ],
      "metadata": {
        "id": "AnoDN7hcI4dJ"
      },
      "execution_count": null,
      "outputs": []
    }
  ]
}